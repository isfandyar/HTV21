{
 "cells": [
  {
   "cell_type": "code",
   "execution_count": 6,
   "metadata": {},
   "outputs": [],
   "source": [
    "import cv2\n",
    "import math\n",
    "import mediapipe as mp\n",
    "import numpy as np\n",
    "import matplotlib.pyplot as plt\n",
    "import csv\n",
    "import os\n",
    "import numpy as np\n",
    "import pandas as pd\n",
    "from sklearn.model_selection import train_test_split\n",
    "\n",
    "from sklearn.pipeline import make_pipeline \n",
    "from sklearn.preprocessing import StandardScaler\n",
    "from sklearn.preprocessing import RobustScaler\n",
    "\n",
    "from sklearn.linear_model import LogisticRegression, RidgeClassifier\n",
    "from sklearn.ensemble import RandomForestClassifier, GradientBoostingClassifier\n",
    "from sklearn.naive_bayes import MultinomialNB\n",
    "from sklearn.svm import SVC\n",
    "from xgboost import XGBClassifier\n",
    "from sklearn.metrics import plot_confusion_matrix, confusion_matrix, accuracy_score, classification_report\n",
    "from sklearn.metrics import confusion_matrix, ConfusionMatrixDisplay\n",
    "from sklearn.metrics import accuracy_score # Accuracy metrics \n",
    "import pickle\n",
    "\n",
    "\n",
    "from time import time\n",
    "from mpl_toolkits.mplot3d import Axes3D\n",
    "\n",
    "import random\n",
    "import tensorflow as tf\n",
    "from tensorflow import keras\n",
    "from tensorflow.keras import layers\n",
    "from keras.models import Sequential\n",
    "from keras.layers import Dense, Dropout, Flatten\n",
    "from keras.layers import Conv2D, MaxPooling2D\n",
    "from tensorflow.keras.models import Model\n",
    "from keras.callbacks import EarlyStopping\n",
    "from keras.models import Sequential\n",
    "from keras.layers import Activation, Dense, Flatten, BatchNormalization, Conv2D, MaxPool2D, Dropout\n",
    "\n",
    "\n",
    "from gtts import gTTS\n",
    "from playsound import playsound\n",
    "\n",
    "#####################################################################################\n",
    "# Initiate mediapipe \n",
    "\n",
    "\n",
    "mp_drawing = mp.solutions.drawing_utils\n",
    "mp_drawing_styles = mp.solutions.drawing_styles\n",
    "mp_holistic = mp.solutions.holistic"
   ]
  },
  {
   "cell_type": "code",
   "execution_count": 7,
   "metadata": {},
   "outputs": [],
   "source": [
    "\n",
    "from tensorflow.keras.models import Sequential\n",
    "from tensorflow.keras.layers import LSTM, Dense\n",
    "from tensorflow.keras.callbacks import TensorBoard"
   ]
  },
  {
   "cell_type": "code",
   "execution_count": 8,
   "metadata": {},
   "outputs": [],
   "source": [
    "df = pd.read_csv('coords.csv') #dataset"
   ]
  },
  {
   "cell_type": "code",
   "execution_count": 8,
   "metadata": {},
   "outputs": [],
   "source": [
    "X = df.drop('class', axis=1) # features\n",
    "y = df['class'] # target value\n",
    "X_train, X_test, y_train, y_test = train_test_split(X, y, test_size=0.3, random_state=69) #spliting data into training and testing"
   ]
  },
  {
   "cell_type": "code",
   "execution_count": 9,
   "metadata": {},
   "outputs": [],
   "source": [
    "log_dir = os.path.join('Logs')\n",
    "tb_callback = TensorBoard(log_dir=log_dir)"
   ]
  },
  {
   "cell_type": "code",
   "execution_count": 10,
   "metadata": {},
   "outputs": [],
   "source": [
    "pipelines = {\n",
    "    'lr':make_pipeline(RobustScaler(), LogisticRegression()),\n",
    "    'rc':make_pipeline(RobustScaler(), RidgeClassifier()),\n",
    "    'svc':make_pipeline(RobustScaler(), SVC()),\n",
    "    'xgb':make_pipeline(RobustScaler(), XGBClassifier()),\n",
    "    'rf':make_pipeline(RobustScaler(), RandomForestClassifier()),\n",
    "    'gb':make_pipeline(RobustScaler(), GradientBoostingClassifier())\n",
    "}"
   ]
  },
  {
   "cell_type": "code",
   "execution_count": 11,
   "metadata": {},
   "outputs": [
    {
     "name": "stderr",
     "output_type": "stream",
     "text": [
      "C:\\Users\\Isfan\\anaconda3\\envs\\Capstone-NLP\\lib\\site-packages\\sklearn\\linear_model\\_logistic.py:940: ConvergenceWarning: lbfgs failed to converge (status=1):\n",
      "STOP: TOTAL NO. of ITERATIONS REACHED LIMIT.\n",
      "\n",
      "Increase the number of iterations (max_iter) or scale the data as shown in:\n",
      "    https://scikit-learn.org/stable/modules/preprocessing.html\n",
      "Please also refer to the documentation for alternative solver options:\n",
      "    https://scikit-learn.org/stable/modules/linear_model.html#logistic-regression\n",
      "  extra_warning_msg=_LOGISTIC_SOLVER_CONVERGENCE_MSG)\n",
      "C:\\Users\\Isfan\\anaconda3\\envs\\Capstone-NLP\\lib\\site-packages\\xgboost\\sklearn.py:1146: UserWarning: The use of label encoder in XGBClassifier is deprecated and will be removed in a future release. To remove this warning, do the following: 1) Pass option use_label_encoder=False when constructing XGBClassifier object; and 2) Encode your labels (y) as integers starting with 0, i.e. 0, 1, 2, ..., [num_class - 1].\n",
      "  warnings.warn(label_encoder_deprecation_msg, UserWarning)\n"
     ]
    },
    {
     "name": "stdout",
     "output_type": "stream",
     "text": [
      "[03:59:42] WARNING: ..\\src\\learner.cc:1095: Starting in XGBoost 1.3.0, the default evaluation metric used with the objective 'multi:softprob' was changed from 'merror' to 'mlogloss'. Explicitly set eval_metric if you'd like to restore the old behavior.\n"
     ]
    }
   ],
   "source": [
    "fit_models = {}\n",
    "for algo, pipeline in pipelines.items():\n",
    "    model = pipeline.fit(X_train, y_train)\n",
    "    fit_models[algo] = model"
   ]
  },
  {
   "cell_type": "code",
   "execution_count": 12,
   "metadata": {},
   "outputs": [
    {
     "data": {
      "text/plain": [
       "{'lr': Pipeline(memory=None,\n",
       "          steps=[('robustscaler',\n",
       "                  RobustScaler(copy=True, quantile_range=(25.0, 75.0),\n",
       "                               with_centering=True, with_scaling=True)),\n",
       "                 ('logisticregression',\n",
       "                  LogisticRegression(C=1.0, class_weight=None, dual=False,\n",
       "                                     fit_intercept=True, intercept_scaling=1,\n",
       "                                     l1_ratio=None, max_iter=100,\n",
       "                                     multi_class='auto', n_jobs=None,\n",
       "                                     penalty='l2', random_state=None,\n",
       "                                     solver='lbfgs', tol=0.0001, verbose=0,\n",
       "                                     warm_start=False))],\n",
       "          verbose=False),\n",
       " 'rc': Pipeline(memory=None,\n",
       "          steps=[('robustscaler',\n",
       "                  RobustScaler(copy=True, quantile_range=(25.0, 75.0),\n",
       "                               with_centering=True, with_scaling=True)),\n",
       "                 ('ridgeclassifier',\n",
       "                  RidgeClassifier(alpha=1.0, class_weight=None, copy_X=True,\n",
       "                                  fit_intercept=True, max_iter=None,\n",
       "                                  normalize=False, random_state=None,\n",
       "                                  solver='auto', tol=0.001))],\n",
       "          verbose=False),\n",
       " 'svc': Pipeline(memory=None,\n",
       "          steps=[('robustscaler',\n",
       "                  RobustScaler(copy=True, quantile_range=(25.0, 75.0),\n",
       "                               with_centering=True, with_scaling=True)),\n",
       "                 ('svc',\n",
       "                  SVC(C=1.0, break_ties=False, cache_size=200, class_weight=None,\n",
       "                      coef0=0.0, decision_function_shape='ovr', degree=3,\n",
       "                      gamma='scale', kernel='rbf', max_iter=-1,\n",
       "                      probability=False, random_state=None, shrinking=True,\n",
       "                      tol=0.001, verbose=False))],\n",
       "          verbose=False),\n",
       " 'xgb': Pipeline(memory=None,\n",
       "          steps=[('robustscaler',\n",
       "                  RobustScaler(copy=True, quantile_range=(25.0, 75.0),\n",
       "                               with_centering=True, with_scaling=True)),\n",
       "                 ('xgbclassifier',\n",
       "                  XGBClassifier(base_score=0.5, booster='gbtree',\n",
       "                                colsample_bylevel=1, colsample_bynode=1,\n",
       "                                colsample_bytree=1, gamma=0, gpu_id=-1,\n",
       "                                importance_type='gain',\n",
       "                                interaction_constraints='',\n",
       "                                learning_rate=0.300000012, max_delta_step=0,\n",
       "                                max_depth=6, min_child_weight=1, missing=nan,\n",
       "                                monotone_constraints='()', n_estimators=100,\n",
       "                                n_jobs=8, num_parallel_tree=1,\n",
       "                                objective='multi:softprob', random_state=0,\n",
       "                                reg_alpha=0, reg_lambda=1, scale_pos_weight=None,\n",
       "                                subsample=1, tree_method='exact',\n",
       "                                use_label_encoder=True, validate_parameters=1,\n",
       "                                verbosity=None))],\n",
       "          verbose=False),\n",
       " 'rf': Pipeline(memory=None,\n",
       "          steps=[('robustscaler',\n",
       "                  RobustScaler(copy=True, quantile_range=(25.0, 75.0),\n",
       "                               with_centering=True, with_scaling=True)),\n",
       "                 ('randomforestclassifier',\n",
       "                  RandomForestClassifier(bootstrap=True, ccp_alpha=0.0,\n",
       "                                         class_weight=None, criterion='gini',\n",
       "                                         max_depth=None, max_features='auto',\n",
       "                                         max_leaf_nodes=None, max_samples=None,\n",
       "                                         min_impurity_decrease=0.0,\n",
       "                                         min_impurity_split=None,\n",
       "                                         min_samples_leaf=1, min_samples_split=2,\n",
       "                                         min_weight_fraction_leaf=0.0,\n",
       "                                         n_estimators=100, n_jobs=None,\n",
       "                                         oob_score=False, random_state=None,\n",
       "                                         verbose=0, warm_start=False))],\n",
       "          verbose=False),\n",
       " 'gb': Pipeline(memory=None,\n",
       "          steps=[('robustscaler',\n",
       "                  RobustScaler(copy=True, quantile_range=(25.0, 75.0),\n",
       "                               with_centering=True, with_scaling=True)),\n",
       "                 ('gradientboostingclassifier',\n",
       "                  GradientBoostingClassifier(ccp_alpha=0.0,\n",
       "                                             criterion='friedman_mse', init=None,\n",
       "                                             learning_rate=0.1, loss='deviance',\n",
       "                                             max_depth=3, max_features=None,\n",
       "                                             max_leaf_nodes=None,\n",
       "                                             min_impurity_decrease=0.0,\n",
       "                                             min_impurity_split=None,\n",
       "                                             min_samples_leaf=1,\n",
       "                                             min_samples_split=2,\n",
       "                                             min_weight_fraction_leaf=0.0,\n",
       "                                             n_estimators=100,\n",
       "                                             n_iter_no_change=None,\n",
       "                                             presort='deprecated',\n",
       "                                             random_state=None, subsample=1.0,\n",
       "                                             tol=0.0001, validation_fraction=0.1,\n",
       "                                             verbose=0, warm_start=False))],\n",
       "          verbose=False)}"
      ]
     },
     "execution_count": 12,
     "metadata": {},
     "output_type": "execute_result"
    }
   ],
   "source": [
    "fit_models"
   ]
  },
  {
   "cell_type": "code",
   "execution_count": 13,
   "metadata": {},
   "outputs": [
    {
     "name": "stdout",
     "output_type": "stream",
     "text": [
      "lr 0.9944444444444445\n",
      "rc 1.0\n",
      "svc 0.9388888888888889\n",
      "xgb 0.9944444444444445\n",
      "rf 1.0\n",
      "gb 0.9944444444444445\n"
     ]
    },
    {
     "name": "stderr",
     "output_type": "stream",
     "text": [
      "C:\\Users\\Isfan\\anaconda3\\envs\\Capstone-NLP\\lib\\site-packages\\xgboost\\data.py:114: UserWarning: Use subset (sliced data) of np.ndarray is not recommended because it will generate extra copies and increase memory consumption\n",
      "  \"because it will generate extra copies and increase \" +\n"
     ]
    }
   ],
   "source": [
    "for algo, model in fit_models.items():\n",
    "    yhat = model.predict(X_test)\n",
    "    print(algo, accuracy_score(y_test, yhat))"
   ]
  },
  {
   "cell_type": "code",
   "execution_count": 14,
   "metadata": {},
   "outputs": [],
   "source": [
    "#making a function that did everything above\n",
    "def fit_predict(model,X_test, y_test):\n",
    "    y_pred=model.predict(X_test)\n",
    "    print(\"Model name: \" + type(model.steps[1][1]).__name__ )\n",
    "    print(\"Accuracy score: {}\".format(accuracy_score(y_test, y_pred)))\n",
    "    print(\"classification report\\n\")\n",
    "    print(classification_report(y_test,y_pred))\n",
    "    print(\"\\n\")\n",
    "    ConfusionMatrixDisplay(confusion_matrix(y_test,y_pred), display_labels=fit_models['gb'].classes_).plot(cmap='viridis')\n",
    "    #plt.title(f'Confusion matrix of {model} model on test data')\n",
    "    plt.show()"
   ]
  },
  {
   "cell_type": "code",
   "execution_count": 15,
   "metadata": {},
   "outputs": [
    {
     "name": "stdout",
     "output_type": "stream",
     "text": [
      "Model name: LogisticRegression\n",
      "Accuracy score: 0.9944444444444445\n",
      "classification report\n",
      "\n",
      "              precision    recall  f1-score   support\n",
      "\n",
      "       happy       1.00      1.00      1.00        56\n",
      "     neutral       0.98      1.00      0.99        58\n",
      "         sad       1.00      0.98      0.99        66\n",
      "\n",
      "    accuracy                           0.99       180\n",
      "   macro avg       0.99      0.99      0.99       180\n",
      "weighted avg       0.99      0.99      0.99       180\n",
      "\n",
      "\n",
      "\n"
     ]
    },
    {
     "data": {
      "image/png": "[encoded data removed]",
      "text/plain": [
       "<Figure size 432x288 with 2 Axes>"
      ]
     },
     "metadata": {
      "needs_background": "light"
     },
     "output_type": "display_data"
    }
   ],
   "source": [
    "fit_predict(fit_models['lr'], X_test, y_test)"
   ]
  },
  {
   "cell_type": "code",
   "execution_count": 16,
   "metadata": {},
   "outputs": [],
   "source": [
    "with open('OpenCV_LR.pkl', 'wb') as f:\n",
    "    pickle.dump(fit_models['lr'], f)"
   ]
  },
  {
   "cell_type": "code",
   "execution_count": null,
   "metadata": {},
   "outputs": [],
   "source": []
  },
  {
   "cell_type": "code",
   "execution_count": null,
   "metadata": {},
   "outputs": [],
   "source": []
  },
  {
   "cell_type": "code",
   "execution_count": 10,
   "metadata": {},
   "outputs": [],
   "source": [
    "with open('OpenCV_LR.pkl', 'rb') as f:\n",
    "    model = pickle.load(f)"
   ]
  },
  {
   "cell_type": "code",
   "execution_count": 11,
   "metadata": {},
   "outputs": [],
   "source": [
    "def mediapipe_detection(image, model):\n",
    "    image = cv2.cvtColor(image, cv2.COLOR_BGR2RGB) # COLOR CONVERSION BGR 2 RGB\n",
    "    image.flags.writeable = False                  # Image is no longer writeable\n",
    "    results = model.process(image)                 # Make prediction\n",
    "    image.flags.writeable = True                   # Image is now writeable \n",
    "    image = cv2.cvtColor(image, cv2.COLOR_RGB2BGR) # COLOR COVERSION RGB 2 BGR\n",
    "    return image, results"
   ]
  },
  {
   "cell_type": "code",
   "execution_count": 12,
   "metadata": {},
   "outputs": [],
   "source": [
    "def draw_styled_landmarks(image, results):\n",
    "    # Draw face connections\n",
    "    mp_drawing.draw_landmarks(image, results.face_landmarks, mp_holistic.FACEMESH_TESSELATION, \n",
    "                             mp_drawing.DrawingSpec(color=(80,110,10), thickness=1, circle_radius=1), \n",
    "                             mp_drawing.DrawingSpec(color=(80,256,121), thickness=1, circle_radius=1)\n",
    "                             )\n",
    "                             "
   ]
  },
  {
   "cell_type": "code",
   "execution_count": 13,
   "metadata": {},
   "outputs": [],
   "source": [
    "vid_path = 'demo_happy_neural_sad_2.mp4'"
   ]
  },
  {
   "cell_type": "code",
   "execution_count": 15,
   "metadata": {},
   "outputs": [
    {
     "name": "stdout",
     "output_type": "stream",
     "text": [
      "happy [0.98 0.   0.02]\n",
      "happy [0.96 0.   0.04]\n",
      "happy [0.95 0.   0.05]\n",
      "happy [0.94 0.   0.06]\n",
      "happy [0.92 0.   0.08]\n",
      "happy [0.95 0.   0.05]\n",
      "happy [0.97 0.   0.03]\n",
      "happy [0.98 0.   0.02]\n",
      "happy [0.99 0.   0.01]\n",
      "happy [0.98 0.   0.02]\n",
      "happy [0.99 0.   0.01]\n",
      "happy [0.99 0.   0.01]\n",
      "happy [0.99 0.   0.01]\n",
      "happy [0.99 0.   0.01]\n",
      "happy [1. 0. 0.]\n",
      "happy [0.99 0.   0.01]\n",
      "happy [0.99 0.   0.01]\n",
      "happy [1. 0. 0.]\n",
      "happy [1. 0. 0.]\n",
      "happy [1. 0. 0.]\n",
      "happy [1. 0. 0.]\n",
      "happy [1. 0. 0.]\n",
      "happy [1. 0. 0.]\n",
      "happy [1. 0. 0.]\n",
      "happy [1. 0. 0.]\n",
      "happy [0.99 0.   0.01]\n",
      "happy [1. 0. 0.]\n",
      "happy [0.99 0.   0.01]\n",
      "happy [0.99 0.   0.01]\n",
      "happy [0.99 0.   0.01]\n",
      "happy [1. 0. 0.]\n",
      "happy [1. 0. 0.]\n",
      "happy [0.99 0.   0.01]\n",
      "happy [0.99 0.   0.01]\n",
      "happy [1. 0. 0.]\n",
      "happy [0.99 0.   0.01]\n",
      "happy [1. 0. 0.]\n",
      "happy [0.99 0.   0.01]\n",
      "happy [0.99 0.   0.01]\n",
      "happy [0.99 0.   0.01]\n",
      "happy [0.96 0.   0.04]\n",
      "happy [0.97 0.   0.03]\n",
      "happy [0.96 0.   0.04]\n",
      "happy [0.98 0.   0.02]\n",
      "happy [0.98 0.   0.02]\n",
      "happy [0.98 0.   0.02]\n",
      "happy [0.99 0.   0.01]\n",
      "happy [0.98 0.   0.02]\n",
      "happy [0.98 0.   0.02]\n",
      "happy [0.98 0.   0.02]\n",
      "happy [0.98 0.   0.02]\n",
      "happy [0.98 0.   0.02]\n",
      "happy [0.98 0.   0.02]\n",
      "happy [0.96 0.   0.04]\n",
      "happy [0.98 0.   0.02]\n",
      "happy [0.98 0.   0.02]\n",
      "happy [0.98 0.   0.02]\n",
      "happy [0.94 0.   0.06]\n",
      "happy [0.79 0.   0.21]\n",
      "happy [0.84 0.   0.16]\n",
      "sad [0.47 0.   0.53]\n",
      "sad [0.17 0.   0.83]\n",
      "sad [0.07 0.   0.93]\n",
      "sad [0.02 0.   0.98]\n",
      "sad [0.01 0.   0.99]\n",
      "sad [0. 0. 1.]\n",
      "sad [0. 0. 1.]\n",
      "sad [0. 0. 1.]\n",
      "sad [0. 0. 1.]\n",
      "sad [0. 0. 1.]\n",
      "sad [0. 0. 1.]\n",
      "sad [0. 0. 1.]\n",
      "sad [0. 0. 1.]\n",
      "sad [0. 0. 1.]\n",
      "sad [0. 0. 1.]\n",
      "sad [0. 0. 1.]\n",
      "sad [0. 0. 1.]\n",
      "sad [0. 0. 1.]\n",
      "sad [0. 0. 1.]\n",
      "sad [0. 0. 1.]\n",
      "sad [0. 0. 1.]\n",
      "sad [0. 0. 1.]\n",
      "sad [0. 0. 1.]\n",
      "sad [0. 0. 1.]\n",
      "sad [0. 0. 1.]\n",
      "sad [0. 0. 1.]\n",
      "sad [0. 0. 1.]\n",
      "sad [0. 0. 1.]\n",
      "sad [0. 0. 1.]\n",
      "sad [0. 0. 1.]\n",
      "sad [0. 0. 1.]\n",
      "sad [0. 0. 1.]\n",
      "sad [0. 0. 1.]\n",
      "sad [0. 0. 1.]\n",
      "sad [0. 0. 1.]\n",
      "sad [0. 0. 1.]\n",
      "sad [0. 0. 1.]\n",
      "sad [0. 0. 1.]\n",
      "sad [0. 0. 1.]\n",
      "sad [0. 0. 1.]\n",
      "sad [0. 0. 1.]\n",
      "sad [0. 0. 1.]\n",
      "sad [0. 0. 1.]\n",
      "sad [0. 0. 1.]\n",
      "sad [0. 0. 1.]\n",
      "sad [0. 0. 1.]\n",
      "sad [0. 0. 1.]\n",
      "sad [0. 0. 1.]\n",
      "sad [0. 0. 1.]\n",
      "sad [0.03 0.   0.97]\n",
      "happy [0.99 0.   0.01]\n",
      "happy [0.99 0.   0.01]\n",
      "happy [1. 0. 0.]\n",
      "happy [1. 0. 0.]\n",
      "happy [1. 0. 0.]\n",
      "happy [0.99 0.   0.01]\n",
      "happy [1. 0. 0.]\n",
      "happy [1. 0. 0.]\n",
      "happy [1. 0. 0.]\n",
      "happy [0.99 0.   0.01]\n",
      "happy [1. 0. 0.]\n",
      "happy [1. 0. 0.]\n",
      "happy [0.99 0.   0.01]\n",
      "happy [1. 0. 0.]\n",
      "happy [1. 0. 0.]\n",
      "happy [1. 0. 0.]\n",
      "happy [1. 0. 0.]\n",
      "happy [1. 0. 0.]\n",
      "happy [0.99 0.   0.01]\n",
      "happy [1. 0. 0.]\n",
      "happy [0.99 0.   0.01]\n",
      "happy [1. 0. 0.]\n",
      "happy [0.99 0.   0.01]\n",
      "happy [1. 0. 0.]\n",
      "happy [1. 0. 0.]\n",
      "happy [1. 0. 0.]\n",
      "happy [1. 0. 0.]\n",
      "happy [1. 0. 0.]\n",
      "happy [1. 0. 0.]\n",
      "happy [0.99 0.   0.01]\n",
      "happy [0.98 0.   0.02]\n",
      "happy [0.97 0.   0.03]\n",
      "happy [0.97 0.   0.03]\n",
      "happy [0.95 0.   0.05]\n",
      "happy [0.91 0.   0.09]\n",
      "happy [0.86 0.   0.14]\n",
      "happy [0.91 0.   0.09]\n",
      "happy [0.9 0.  0.1]\n",
      "happy [0.81 0.   0.19]\n",
      "happy [0.51 0.   0.49]\n",
      "sad [0.46 0.   0.54]\n",
      "happy [0.57 0.   0.43]\n",
      "happy [0.64 0.   0.36]\n",
      "happy [0.84 0.   0.16]\n",
      "happy [0.81 0.   0.19]\n",
      "happy [0.82 0.   0.18]\n",
      "happy [0.82 0.   0.18]\n",
      "happy [0.77 0.   0.23]\n",
      "happy [0.72 0.   0.28]\n",
      "happy [0.67 0.   0.33]\n",
      "sad [0.29 0.   0.71]\n",
      "sad [0.19 0.   0.81]\n",
      "sad [0.03 0.   0.97]\n",
      "sad [0.04 0.   0.96]\n",
      "sad [0.01 0.   0.99]\n",
      "sad [0.01 0.   0.99]\n",
      "sad [0.01 0.   0.99]\n",
      "sad [0. 0. 1.]\n",
      "sad [0. 0. 1.]\n",
      "sad [0. 0. 1.]\n",
      "sad [0. 0. 1.]\n",
      "sad [0. 0. 1.]\n",
      "sad [0. 0. 1.]\n",
      "sad [0. 0. 1.]\n",
      "sad [0. 0. 1.]\n"
     ]
    },
    {
     "ename": "error",
     "evalue": "OpenCV(4.5.3) C:\\Users\\runneradmin\\AppData\\Local\\Temp\\pip-req-build-_xlv4eex\\opencv\\modules\\imgproc\\src\\color.cpp:182: error: (-215:Assertion failed) !_src.empty() in function 'cv::cvtColor'\n",
     "output_type": "error",
     "traceback": [
      "\u001b[1;31m---------------------------------------------------------------------------\u001b[0m",
      "\u001b[1;31merror\u001b[0m                                     Traceback (most recent call last)",
      "\u001b[1;32m<ipython-input-15-8f20316e6433>\u001b[0m in \u001b[0;36m<module>\u001b[1;34m\u001b[0m\n\u001b[0;32m     10\u001b[0m \u001b[1;33m\u001b[0m\u001b[0m\n\u001b[0;32m     11\u001b[0m         \u001b[1;31m# Make detections\u001b[0m\u001b[1;33m\u001b[0m\u001b[1;33m\u001b[0m\u001b[1;33m\u001b[0m\u001b[0m\n\u001b[1;32m---> 12\u001b[1;33m         \u001b[0mimage\u001b[0m\u001b[1;33m,\u001b[0m \u001b[0mresults\u001b[0m \u001b[1;33m=\u001b[0m \u001b[0mmediapipe_detection\u001b[0m\u001b[1;33m(\u001b[0m\u001b[0mframe\u001b[0m\u001b[1;33m,\u001b[0m \u001b[0mholistic\u001b[0m\u001b[1;33m)\u001b[0m\u001b[1;33m\u001b[0m\u001b[1;33m\u001b[0m\u001b[0m\n\u001b[0m\u001b[0;32m     13\u001b[0m \u001b[1;33m\u001b[0m\u001b[0m\n\u001b[0;32m     14\u001b[0m \u001b[1;33m\u001b[0m\u001b[0m\n",
      "\u001b[1;32m<ipython-input-11-ccc66144601c>\u001b[0m in \u001b[0;36mmediapipe_detection\u001b[1;34m(image, model)\u001b[0m\n\u001b[0;32m      1\u001b[0m \u001b[1;32mdef\u001b[0m \u001b[0mmediapipe_detection\u001b[0m\u001b[1;33m(\u001b[0m\u001b[0mimage\u001b[0m\u001b[1;33m,\u001b[0m \u001b[0mmodel\u001b[0m\u001b[1;33m)\u001b[0m\u001b[1;33m:\u001b[0m\u001b[1;33m\u001b[0m\u001b[1;33m\u001b[0m\u001b[0m\n\u001b[1;32m----> 2\u001b[1;33m     \u001b[0mimage\u001b[0m \u001b[1;33m=\u001b[0m \u001b[0mcv2\u001b[0m\u001b[1;33m.\u001b[0m\u001b[0mcvtColor\u001b[0m\u001b[1;33m(\u001b[0m\u001b[0mimage\u001b[0m\u001b[1;33m,\u001b[0m \u001b[0mcv2\u001b[0m\u001b[1;33m.\u001b[0m\u001b[0mCOLOR_BGR2RGB\u001b[0m\u001b[1;33m)\u001b[0m \u001b[1;31m# COLOR CONVERSION BGR 2 RGB\u001b[0m\u001b[1;33m\u001b[0m\u001b[1;33m\u001b[0m\u001b[0m\n\u001b[0m\u001b[0;32m      3\u001b[0m     \u001b[0mimage\u001b[0m\u001b[1;33m.\u001b[0m\u001b[0mflags\u001b[0m\u001b[1;33m.\u001b[0m\u001b[0mwriteable\u001b[0m \u001b[1;33m=\u001b[0m \u001b[1;32mFalse\u001b[0m                  \u001b[1;31m# Image is no longer writeable\u001b[0m\u001b[1;33m\u001b[0m\u001b[1;33m\u001b[0m\u001b[0m\n\u001b[0;32m      4\u001b[0m     \u001b[0mresults\u001b[0m \u001b[1;33m=\u001b[0m \u001b[0mmodel\u001b[0m\u001b[1;33m.\u001b[0m\u001b[0mprocess\u001b[0m\u001b[1;33m(\u001b[0m\u001b[0mimage\u001b[0m\u001b[1;33m)\u001b[0m                 \u001b[1;31m# Make prediction\u001b[0m\u001b[1;33m\u001b[0m\u001b[1;33m\u001b[0m\u001b[0m\n\u001b[0;32m      5\u001b[0m     \u001b[0mimage\u001b[0m\u001b[1;33m.\u001b[0m\u001b[0mflags\u001b[0m\u001b[1;33m.\u001b[0m\u001b[0mwriteable\u001b[0m \u001b[1;33m=\u001b[0m \u001b[1;32mTrue\u001b[0m                   \u001b[1;31m# Image is now writeable\u001b[0m\u001b[1;33m\u001b[0m\u001b[1;33m\u001b[0m\u001b[0m\n",
      "\u001b[1;31merror\u001b[0m: OpenCV(4.5.3) C:\\Users\\runneradmin\\AppData\\Local\\Temp\\pip-req-build-_xlv4eex\\opencv\\modules\\imgproc\\src\\color.cpp:182: error: (-215:Assertion failed) !_src.empty() in function 'cv::cvtColor'\n"
     ]
    }
   ],
   "source": [
    "temp = ''\n",
    "timer = 10\n",
    "cap = cv2.VideoCapture(vid_path)  #Might need to change from 1 to a different number... default system camera is usually 0.\n",
    "# Set mediapipe model \n",
    "with mp_holistic.Holistic(min_detection_confidence=0.5, min_tracking_confidence=0.5) as holistic:\n",
    "    while cap.isOpened():\n",
    "\n",
    "        # Read feed\n",
    "        ret, frame = cap.read()\n",
    "\n",
    "        # Make detections\n",
    "        image, results = mediapipe_detection(frame, holistic)\n",
    "        \n",
    "        \n",
    "        # Extract landmarks\n",
    "        try:\n",
    "            landmarks = np.array([[res.x, res.y, res.z] for res in results.face_landmarks.landmark]).flatten() if results.face_landmarks else np.zeros(468*3)\n",
    "            \n",
    "            # Make Detections\n",
    "            X = pd.DataFrame([landmarks])\n",
    "            classification = model.predict(X)[0]\n",
    "            probability = model.predict_proba(X)[0]\n",
    "            print(classification, np.round(probability,2))\n",
    "            \n",
    "            #if (np.amax(np.round(probability,2)) > .1):\n",
    "                # Get status box\n",
    "            cv2.rectangle(image, (0,0), (590, 60), (100, 100, 10), -1)\n",
    "            cv2.putText(image, 'CLASS', (130,15), cv2.FONT_HERSHEY_TRIPLEX, 0.5, (0, 0, 0), 1, cv2.LINE_AA)\n",
    "            cv2.putText(image, 'PROB', (15,15), cv2.FONT_HERSHEY_TRIPLEX, 0.5, (0, 0, 0), 1, cv2.LINE_AA)\n",
    "            cv2.putText(image, str(round(probability[np.argmax(probability)],2)), (10,50), cv2.FONT_HERSHEY_SIMPLEX, 1, (255, 255, 255), 2, cv2.LINE_AA)\n",
    "            \n",
    "            if (np.amax(np.round(probability,2)) > .90):\n",
    "                # Displaying classification\n",
    "                cv2.putText(image, classification, (120,50), cv2.FONT_HERSHEY_SIMPLEX, 1, (255, 255, 255), 2, cv2.LINE_AA)\n",
    "        except:\n",
    "            pass\n",
    "        \n",
    "\n",
    "        # Draw landmarks\n",
    "        draw_styled_landmarks(image, results)\n",
    "\n",
    "        # Show to screen\n",
    "        cv2.imshow('OpenCV Feed', image)\n",
    "\n",
    "\n",
    "        # Break gracefully\n",
    "        if cv2.waitKey(10) & 0xFF == ord('q'):\n",
    "            break\n",
    "\n",
    "            \n",
    "    cap.release()\n",
    "    cv2.destroyAllWindows()"
   ]
  },
  {
   "cell_type": "code",
   "execution_count": 28,
   "metadata": {},
   "outputs": [
    {
     "data": {
      "text/plain": [
       "array([ 0.5008499 ,  0.61974049, -0.0168263 , ...,  0.56491989,\n",
       "        0.47733364, -0.00720226])"
      ]
     },
     "execution_count": 28,
     "metadata": {},
     "output_type": "execute_result"
    }
   ],
   "source": [
    "landmarks"
   ]
  },
  {
   "cell_type": "code",
   "execution_count": null,
   "metadata": {},
   "outputs": [],
   "source": []
  }
 ],
 "metadata": {
  "kernelspec": {
   "display_name": "Python (Capstone-NLP)",
   "language": "python",
   "name": "capstone-nlp"
  },
  "language_info": {
   "codemirror_mode": {
    "name": "ipython",
    "version": 3
   },
   "file_extension": ".py",
   "mimetype": "text/x-python",
   "name": "python",
   "nbconvert_exporter": "python",
   "pygments_lexer": "ipython3",
   "version": "3.7.6"
  },
  "toc": {
   "base_numbering": 1,
   "nav_menu": {},
   "number_sections": true,
   "sideBar": true,
   "skip_h1_title": false,
   "title_cell": "Table of Contents",
   "title_sidebar": "Contents",
   "toc_cell": false,
   "toc_position": {},
   "toc_section_display": true,
   "toc_window_display": false
  }
 },
 "nbformat": 4,
 "nbformat_minor": 4
}
