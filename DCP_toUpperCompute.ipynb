{
  "nbformat": 4,
  "nbformat_minor": 0,
  "metadata": {
    "colab": {
      "name": "DCP - toUpperCompute",
      "provenance": [],
      "collapsed_sections": [],
      "include_colab_link": true
    },
    "kernelspec": {
      "display_name": "Python 3",
      "name": "python3"
    },
    "language_info": {
      "name": "python"
    }
  },
  "cells": [
    {
      "cell_type": "markdown",
      "metadata": {
        "id": "view-in-github",
        "colab_type": "text"
      },
      "source": [
        "<a href=\"https://colab.research.google.com/github/isfandyar/HTV21/blob/main/DCP_toUpperCompute.ipynb\" target=\"_parent\"><img src=\"https://colab.research.google.com/assets/colab-badge.svg\" alt=\"Open In Colab\"/></a>"
      ]
    },
    {
      "cell_type": "markdown",
      "metadata": {
        "id": "7BKRAQ9jtdXc"
      },
      "source": [
        "#toUppercase Distributed Job Example on DCP \n",
        "### Distributed capitalization of a string!\n",
        "Last Updated: July 22, 2021\n",
        "\n",
        "In this collab, we will use the Distributed Compute Protocol (DCP) to split up a string, send one letter to many computers to be capitalized, and collect an uppercase string back. Of course, it's a trivial job merely meant to demonstrate how to write distributed jobs with DCP.\n",
        "\n",
        "![dcp_new_logo_6.png](data:image/png;base64,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)"
      ]
    },
    {
      "cell_type": "markdown",
      "metadata": {
        "id": "DYcF_U8Greqo"
      },
      "source": [
        "## DCP Overview\n",
        "\n",
        "**Summary**: DCP is an easy-to-use, powerful parallel computing framework that allows users to express a computational **job** as easily as:\n",
        "\n",
        "`job = compute.for(inputSet, workFunction)`\n",
        "\n",
        "`resultSet = await job.exec()`\n",
        "\n",
        "where the `workFunction` is maped onto each element in the `inputSet`. Each maping represents a **slice**. Slices are automatically distributed across DCP networks for computation, and results are automatically returned to the user in the correct order. Said otherwise, imagine writing a parallel *for loop* in which loop elements are independently calculated (no recursion), but instead of executing that loop with your laptop, you're simultaneously executing it with hundreds or thousands of laptops, computers, servers.\n",
        "\n",
        "DCP also allows users to create their own computing networks with arbitrary computers and devices. **Public** DCP network: earn compute Credits when executing work, spend Credits when deploying work (sharing economy). **Private** DCP networks: create your own network with computers and devices lying around and use it as much as you want (contact us to get private compute group credentials).\n",
        "\n",
        "1. Go to https://dcp.work on as many devices as you want and click `Start` to join the public compute group, or to `dcp.work/<computeGroupName>` if you have a private compute group `joinKey` and `joinSecret`.\n",
        "2. Configure environment: load `dcp-client` and any required packages.\n",
        "3. Specify the `inputSet`: an arbitrary, but enumerable input dataset (parameters, mp3 files, images, blender project file, etc)\n",
        "4. Specify the `workFunction`: an arbitrary work function (physics simulation, inference model, rendering process, etc)\n",
        "5. Express the `job`: Map the workFunction onto the inputSet with `job = compute.for(inputSet, workFunction)`\n",
        "6. (optional) Specify a compute group with `job.computeGroups=[{joinKey: '<name>', joinSecret: '<password>'}]`\n",
        "7. Await the `resultSet`: Execute the job in parallel on DCP via `resultSet = await job.exec()`"
      ]
    },
    {
      "cell_type": "markdown",
      "metadata": {
        "id": "65_FJPcOg-kR"
      },
      "source": [
        "## Configure Node.js and DCP Enviornment\n",
        "First, let's set up our `node.js` environment to work within this notebook.  Run the code blocks below to initialize node, npm."
      ]
    },
    {
      "cell_type": "code",
      "metadata": {
        "id": "tnu_CeDzkyXM"
      },
      "source": [
        "%%capture\n",
        "!npm install -g n && n 10.20.1\n",
        "!pip install git+https://github.com/Kings-Distributed-Systems/Bifrost@interface\n",
        "\n",
        "from bifrost import node, npm"
      ],
      "execution_count": 1,
      "outputs": []
    },
    {
      "cell_type": "markdown",
      "metadata": {
        "id": "7lGYgfQDslkI"
      },
      "source": [
        "## DCP Client & Compute API\n",
        "Next, we need to require `dcp-client` library, and the `Compute API`.  These packages will allow us to access the `Distributed Compute Protocol` and send our job to computers and devices available on the network. "
      ]
    },
    {
      "cell_type": "code",
      "metadata": {
        "id": "xmsDABXKnHPp"
      },
      "source": [
        "%%capture\n",
        "\n",
        "# Installs dcp-client using the notebook's node.js backend\n",
        "npm.install('dcp-client')"
      ],
      "execution_count": null,
      "outputs": []
    },
    {
      "cell_type": "code",
      "metadata": {
        "id": "fRG7vjxHo4IM"
      },
      "source": [
        "%%node\n",
        "\n",
        "// Requires dcp-client \n",
        "require('dcp-client').initSync();\n",
        "const compute = require('dcp/compute');"
      ],
      "execution_count": null,
      "outputs": []
    },
    {
      "cell_type": "markdown",
      "metadata": {
        "id": "WPSRSHuktG7f"
      },
      "source": [
        "## DCP Account\n",
        "Running the example will require a DCP account keystore, which can be done [here](https://portal.distributed.computer). Download it, then browse to it so we can use it for this notebook."
      ]
    },
    {
      "cell_type": "code",
      "metadata": {
        "id": "rCzlefU7pNaL",
        "colab": {
          "resources": {
            "http://localhost:8080/nbextensions/google.colab/files.js": {
              "data": "Ly8gQ29weXJpZ2h0IDIwMTcgR29vZ2xlIExMQwovLwovLyBMaWNlbnNlZCB1bmRlciB0aGUgQXBhY2hlIExpY2Vuc2UsIFZlcnNpb24gMi4wICh0aGUgIkxpY2Vuc2UiKTsKLy8geW91IG1heSBub3QgdXNlIHRoaXMgZmlsZSBleGNlcHQgaW4gY29tcGxpYW5jZSB3aXRoIHRoZSBMaWNlbnNlLgovLyBZb3UgbWF5IG9idGFpbiBhIGNvcHkgb2YgdGhlIExpY2Vuc2UgYXQKLy8KLy8gICAgICBodHRwOi8vd3d3LmFwYWNoZS5vcmcvbGljZW5zZXMvTElDRU5TRS0yLjAKLy8KLy8gVW5sZXNzIHJlcXVpcmVkIGJ5IGFwcGxpY2FibGUgbGF3IG9yIGFncmVlZCB0byBpbiB3cml0aW5nLCBzb2Z0d2FyZQovLyBkaXN0cmlidXRlZCB1bmRlciB0aGUgTGljZW5zZSBpcyBkaXN0cmlidXRlZCBvbiBhbiAiQVMgSVMiIEJBU0lTLAovLyBXSVRIT1VUIFdBUlJBTlRJRVMgT1IgQ09ORElUSU9OUyBPRiBBTlkgS0lORCwgZWl0aGVyIGV4cHJlc3Mgb3IgaW1wbGllZC4KLy8gU2VlIHRoZSBMaWNlbnNlIGZvciB0aGUgc3BlY2lmaWMgbGFuZ3VhZ2UgZ292ZXJuaW5nIHBlcm1pc3Npb25zIGFuZAovLyBsaW1pdGF0aW9ucyB1bmRlciB0aGUgTGljZW5zZS4KCi8qKgogKiBAZmlsZW92ZXJ2aWV3IEhlbHBlcnMgZm9yIGdvb2dsZS5jb2xhYiBQeXRob24gbW9kdWxlLgogKi8KKGZ1bmN0aW9uKHNjb3BlKSB7CmZ1bmN0aW9uIHNwYW4odGV4dCwgc3R5bGVBdHRyaWJ1dGVzID0ge30pIHsKICBjb25zdCBlbGVtZW50ID0gZG9jdW1lbnQuY3JlYXRlRWxlbWVudCgnc3BhbicpOwogIGVsZW1lbnQudGV4dENvbnRlbnQgPSB0ZXh0OwogIGZvciAoY29uc3Qga2V5IG9mIE9iamVjdC5rZXlzKHN0eWxlQXR0cmlidXRlcykpIHsKICAgIGVsZW1lbnQuc3R5bGVba2V5XSA9IHN0eWxlQXR0cmlidXRlc1trZXldOwogIH0KICByZXR1cm4gZWxlbWVudDsKfQoKLy8gTWF4IG51bWJlciBvZiBieXRlcyB3aGljaCB3aWxsIGJlIHVwbG9hZGVkIGF0IGEgdGltZS4KY29uc3QgTUFYX1BBWUxPQURfU0laRSA9IDEwMCAqIDEwMjQ7CgpmdW5jdGlvbiBfdXBsb2FkRmlsZXMoaW5wdXRJZCwgb3V0cHV0SWQpIHsKICBjb25zdCBzdGVwcyA9IHVwbG9hZEZpbGVzU3RlcChpbnB1dElkLCBvdXRwdXRJZCk7CiAgY29uc3Qgb3V0cHV0RWxlbWVudCA9IGRvY3VtZW50LmdldEVsZW1lbnRCeUlkKG91dHB1dElkKTsKICAvLyBDYWNoZSBzdGVwcyBvbiB0aGUgb3V0cHV0RWxlbWVudCB0byBtYWtlIGl0IGF2YWlsYWJsZSBmb3IgdGhlIG5leHQgY2FsbAogIC8vIHRvIHVwbG9hZEZpbGVzQ29udGludWUgZnJvbSBQeXRob24uCiAgb3V0cHV0RWxlbWVudC5zdGVwcyA9IHN0ZXBzOwoKICByZXR1cm4gX3VwbG9hZEZpbGVzQ29udGludWUob3V0cHV0SWQpOwp9CgovLyBUaGlzIGlzIHJvdWdobHkgYW4gYXN5bmMgZ2VuZXJhdG9yIChub3Qgc3VwcG9ydGVkIGluIHRoZSBicm93c2VyIHlldCksCi8vIHdoZXJlIHRoZXJlIGFyZSBtdWx0aXBsZSBhc3luY2hyb25vdXMgc3RlcHMgYW5kIHRoZSBQeXRob24gc2lkZSBpcyBnb2luZwovLyB0byBwb2xsIGZvciBjb21wbGV0aW9uIG9mIGVhY2ggc3RlcC4KLy8gVGhpcyB1c2VzIGEgUHJvbWlzZSB0byBibG9jayB0aGUgcHl0aG9uIHNpZGUgb24gY29tcGxldGlvbiBvZiBlYWNoIHN0ZXAsCi8vIHRoZW4gcGFzc2VzIHRoZSByZXN1bHQgb2YgdGhlIHByZXZpb3VzIHN0ZXAgYXMgdGhlIGlucHV0IHRvIHRoZSBuZXh0IHN0ZXAuCmZ1bmN0aW9uIF91cGxvYWRGaWxlc0NvbnRpbnVlKG91dHB1dElkKSB7CiAgY29uc3Qgb3V0cHV0RWxlbWVudCA9IGRvY3VtZW50LmdldEVsZW1lbnRCeUlkKG91dHB1dElkKTsKICBjb25zdCBzdGVwcyA9IG91dHB1dEVsZW1lbnQuc3RlcHM7CgogIGNvbnN0IG5leHQgPSBzdGVwcy5uZXh0KG91dHB1dEVsZW1lbnQubGFzdFByb21pc2VWYWx1ZSk7CiAgcmV0dXJuIFByb21pc2UucmVzb2x2ZShuZXh0LnZhbHVlLnByb21pc2UpLnRoZW4oKHZhbHVlKSA9PiB7CiAgICAvLyBDYWNoZSB0aGUgbGFzdCBwcm9taXNlIHZhbHVlIHRvIG1ha2UgaXQgYXZhaWxhYmxlIHRvIHRoZSBuZXh0CiAgICAvLyBzdGVwIG9mIHRoZSBnZW5lcmF0b3IuCiAgICBvdXRwdXRFbGVtZW50Lmxhc3RQcm9taXNlVmFsdWUgPSB2YWx1ZTsKICAgIHJldHVybiBuZXh0LnZhbHVlLnJlc3BvbnNlOwogIH0pOwp9CgovKioKICogR2VuZXJhdG9yIGZ1bmN0aW9uIHdoaWNoIGlzIGNhbGxlZCBiZXR3ZWVuIGVhY2ggYXN5bmMgc3RlcCBvZiB0aGUgdXBsb2FkCiAqIHByb2Nlc3MuCiAqIEBwYXJhbSB7c3RyaW5nfSBpbnB1dElkIEVsZW1lbnQgSUQgb2YgdGhlIGlucHV0IGZpbGUgcGlja2VyIGVsZW1lbnQuCiAqIEBwYXJhbSB7c3RyaW5nfSBvdXRwdXRJZCBFbGVtZW50IElEIG9mIHRoZSBvdXRwdXQgZGlzcGxheS4KICogQHJldHVybiB7IUl0ZXJhYmxlPCFPYmplY3Q+fSBJdGVyYWJsZSBvZiBuZXh0IHN0ZXBzLgogKi8KZnVuY3Rpb24qIHVwbG9hZEZpbGVzU3RlcChpbnB1dElkLCBvdXRwdXRJZCkgewogIGNvbnN0IGlucHV0RWxlbWVudCA9IGRvY3VtZW50LmdldEVsZW1lbnRCeUlkKGlucHV0SWQpOwogIGlucHV0RWxlbWVudC5kaXNhYmxlZCA9IGZhbHNlOwoKICBjb25zdCBvdXRwdXRFbGVtZW50ID0gZG9jdW1lbnQuZ2V0RWxlbWVudEJ5SWQob3V0cHV0SWQpOwogIG91dHB1dEVsZW1lbnQuaW5uZXJIVE1MID0gJyc7CgogIGNvbnN0IHBpY2tlZFByb21pc2UgPSBuZXcgUHJvbWlzZSgocmVzb2x2ZSkgPT4gewogICAgaW5wdXRFbGVtZW50LmFkZEV2ZW50TGlzdGVuZXIoJ2NoYW5nZScsIChlKSA9PiB7CiAgICAgIHJlc29sdmUoZS50YXJnZXQuZmlsZXMpOwogICAgfSk7CiAgfSk7CgogIGNvbnN0IGNhbmNlbCA9IGRvY3VtZW50LmNyZWF0ZUVsZW1lbnQoJ2J1dHRvbicpOwogIGlucHV0RWxlbWVudC5wYXJlbnRFbGVtZW50LmFwcGVuZENoaWxkKGNhbmNlbCk7CiAgY2FuY2VsLnRleHRDb250ZW50ID0gJ0NhbmNlbCB1cGxvYWQnOwogIGNvbnN0IGNhbmNlbFByb21pc2UgPSBuZXcgUHJvbWlzZSgocmVzb2x2ZSkgPT4gewogICAgY2FuY2VsLm9uY2xpY2sgPSAoKSA9PiB7CiAgICAgIHJlc29sdmUobnVsbCk7CiAgICB9OwogIH0pOwoKICAvLyBXYWl0IGZvciB0aGUgdXNlciB0byBwaWNrIHRoZSBmaWxlcy4KICBjb25zdCBmaWxlcyA9IHlpZWxkIHsKICAgIHByb21pc2U6IFByb21pc2UucmFjZShbcGlja2VkUHJvbWlzZSwgY2FuY2VsUHJvbWlzZV0pLAogICAgcmVzcG9uc2U6IHsKICAgICAgYWN0aW9uOiAnc3RhcnRpbmcnLAogICAgfQogIH07CgogIGNhbmNlbC5yZW1vdmUoKTsKCiAgLy8gRGlzYWJsZSB0aGUgaW5wdXQgZWxlbWVudCBzaW5jZSBmdXJ0aGVyIHBpY2tzIGFyZSBub3QgYWxsb3dlZC4KICBpbnB1dEVsZW1lbnQuZGlzYWJsZWQgPSB0cnVlOwoKICBpZiAoIWZpbGVzKSB7CiAgICByZXR1cm4gewogICAgICByZXNwb25zZTogewogICAgICAgIGFjdGlvbjogJ2NvbXBsZXRlJywKICAgICAgfQogICAgfTsKICB9CgogIGZvciAoY29uc3QgZmlsZSBvZiBmaWxlcykgewogICAgY29uc3QgbGkgPSBkb2N1bWVudC5jcmVhdGVFbGVtZW50KCdsaScpOwogICAgbGkuYXBwZW5kKHNwYW4oZmlsZS5uYW1lLCB7Zm9udFdlaWdodDogJ2JvbGQnfSkpOwogICAgbGkuYXBwZW5kKHNwYW4oCiAgICAgICAgYCgke2ZpbGUudHlwZSB8fCAnbi9hJ30pIC0gJHtmaWxlLnNpemV9IGJ5dGVzLCBgICsKICAgICAgICBgbGFzdCBtb2RpZmllZDogJHsKICAgICAgICAgICAgZmlsZS5sYXN0TW9kaWZpZWREYXRlID8gZmlsZS5sYXN0TW9kaWZpZWREYXRlLnRvTG9jYWxlRGF0ZVN0cmluZygpIDoKICAgICAgICAgICAgICAgICAgICAgICAgICAgICAgICAgICAgJ24vYSd9IC0gYCkpOwogICAgY29uc3QgcGVyY2VudCA9IHNwYW4oJzAlIGRvbmUnKTsKICAgIGxpLmFwcGVuZENoaWxkKHBlcmNlbnQpOwoKICAgIG91dHB1dEVsZW1lbnQuYXBwZW5kQ2hpbGQobGkpOwoKICAgIGNvbnN0IGZpbGVEYXRhUHJvbWlzZSA9IG5ldyBQcm9taXNlKChyZXNvbHZlKSA9PiB7CiAgICAgIGNvbnN0IHJlYWRlciA9IG5ldyBGaWxlUmVhZGVyKCk7CiAgICAgIHJlYWRlci5vbmxvYWQgPSAoZSkgPT4gewogICAgICAgIHJlc29sdmUoZS50YXJnZXQucmVzdWx0KTsKICAgICAgfTsKICAgICAgcmVhZGVyLnJlYWRBc0FycmF5QnVmZmVyKGZpbGUpOwogICAgfSk7CiAgICAvLyBXYWl0IGZvciB0aGUgZGF0YSB0byBiZSByZWFkeS4KICAgIGxldCBmaWxlRGF0YSA9IHlpZWxkIHsKICAgICAgcHJvbWlzZTogZmlsZURhdGFQcm9taXNlLAogICAgICByZXNwb25zZTogewogICAgICAgIGFjdGlvbjogJ2NvbnRpbnVlJywKICAgICAgfQogICAgfTsKCiAgICAvLyBVc2UgYSBjaHVua2VkIHNlbmRpbmcgdG8gYXZvaWQgbWVzc2FnZSBzaXplIGxpbWl0cy4gU2VlIGIvNjIxMTU2NjAuCiAgICBsZXQgcG9zaXRpb24gPSAwOwogICAgZG8gewogICAgICBjb25zdCBsZW5ndGggPSBNYXRoLm1pbihmaWxlRGF0YS5ieXRlTGVuZ3RoIC0gcG9zaXRpb24sIE1BWF9QQVlMT0FEX1NJWkUpOwogICAgICBjb25zdCBjaHVuayA9IG5ldyBVaW50OEFycmF5KGZpbGVEYXRhLCBwb3NpdGlvbiwgbGVuZ3RoKTsKICAgICAgcG9zaXRpb24gKz0gbGVuZ3RoOwoKICAgICAgY29uc3QgYmFzZTY0ID0gYnRvYShTdHJpbmcuZnJvbUNoYXJDb2RlLmFwcGx5KG51bGwsIGNodW5rKSk7CiAgICAgIHlpZWxkIHsKICAgICAgICByZXNwb25zZTogewogICAgICAgICAgYWN0aW9uOiAnYXBwZW5kJywKICAgICAgICAgIGZpbGU6IGZpbGUubmFtZSwKICAgICAgICAgIGRhdGE6IGJhc2U2NCwKICAgICAgICB9LAogICAgICB9OwoKICAgICAgbGV0IHBlcmNlbnREb25lID0gZmlsZURhdGEuYnl0ZUxlbmd0aCA9PT0gMCA/CiAgICAgICAgICAxMDAgOgogICAgICAgICAgTWF0aC5yb3VuZCgocG9zaXRpb24gLyBmaWxlRGF0YS5ieXRlTGVuZ3RoKSAqIDEwMCk7CiAgICAgIHBlcmNlbnQudGV4dENvbnRlbnQgPSBgJHtwZXJjZW50RG9uZX0lIGRvbmVgOwoKICAgIH0gd2hpbGUgKHBvc2l0aW9uIDwgZmlsZURhdGEuYnl0ZUxlbmd0aCk7CiAgfQoKICAvLyBBbGwgZG9uZS4KICB5aWVsZCB7CiAgICByZXNwb25zZTogewogICAgICBhY3Rpb246ICdjb21wbGV0ZScsCiAgICB9CiAgfTsKfQoKc2NvcGUuZ29vZ2xlID0gc2NvcGUuZ29vZ2xlIHx8IHt9OwpzY29wZS5nb29nbGUuY29sYWIgPSBzY29wZS5nb29nbGUuY29sYWIgfHwge307CnNjb3BlLmdvb2dsZS5jb2xhYi5fZmlsZXMgPSB7CiAgX3VwbG9hZEZpbGVzLAogIF91cGxvYWRGaWxlc0NvbnRpbnVlLAp9Owp9KShzZWxmKTsK",
              "ok": true,
              "headers": [
                [
                  "content-type",
                  "application/javascript"
                ]
              ],
              "status": 200,
              "status_text": "OK"
            }
          },
          "base_uri": "https://localhost:8080/",
          "height": 75
        },
        "outputId": "af933c49-b050-4d65-bf78-976cf8dd848f"
      },
      "source": [
        "# Loads a DCP Account keystore containing compute Credits\n",
        "# When prompted, please upload your keystore file\n",
        "\n",
        "from google.colab import files\n",
        "\n",
        "KEYSTORE_NAME = list(files.upload().keys())[0]\n",
        "\n",
        "!mkdir -p ~/.dcp\n",
        "!cp /content/$KEYSTORE_NAME ~/.dcp/default.keystore\n",
        "!cp /content/$KEYSTORE_NAME ~/.dcp/id.keystore\n"
      ],
      "execution_count": null,
      "outputs": [
        {
          "output_type": "display_data",
          "data": {
            "text/html": [
              "\n",
              "     <input type=\"file\" id=\"files-793d1889-eed2-4ada-ac35-aecd192d2f60\" name=\"files[]\" multiple disabled\n",
              "        style=\"border:none\" />\n",
              "     <output id=\"result-793d1889-eed2-4ada-ac35-aecd192d2f60\">\n",
              "      Upload widget is only available when the cell has been executed in the\n",
              "      current browser session. Please rerun this cell to enable.\n",
              "      </output>\n",
              "      <script src=\"/nbextensions/google.colab/files.js\"></script> "
            ],
            "text/plain": [
              "<IPython.core.display.HTML object>"
            ]
          },
          "metadata": {}
        },
        {
          "output_type": "stream",
          "name": "stdout",
          "text": [
            "Saving default.keystore to default.keystore\n"
          ]
        }
      ]
    },
    {
      "cell_type": "markdown",
      "metadata": {
        "id": "P97a9VlxuBEx"
      },
      "source": [
        "## Input Data\n",
        "Now we will set up our input data. For this example, enter any string in the field below.  We will split it into its characters, and prepare to distribute them."
      ]
    },
    {
      "cell_type": "code",
      "metadata": {
        "id": "DKuVeXJTx73J"
      },
      "source": [
        "#@markdown ### Enter String to Capitalize\n",
        "inputString = \"\" #@param {type:\"string\"}"
      ],
      "execution_count": null,
      "outputs": []
    },
    {
      "cell_type": "code",
      "metadata": {
        "colab": {
          "base_uri": "https://localhost:8080/"
        },
        "id": "u-GNoR9vuRCZ",
        "outputId": "bd44a3dc-1bd2-41fe-a6ca-91941d9f562e"
      },
      "source": [
        "%%node\n",
        "\n",
        "inputSet = Array.from(inputString);\n",
        "console.log(\"Input generated\");"
      ],
      "execution_count": null,
      "outputs": [
        {
          "output_type": "stream",
          "name": "stdout",
          "text": [
            "Input generated\n"
          ]
        }
      ]
    },
    {
      "cell_type": "markdown",
      "metadata": {
        "id": "J8Nl7yTNvGRY"
      },
      "source": [
        "## Work Function\n",
        "This is the function that each worker will run in parallel.  We are going to send each worker one character from the input string. It will then return the character in uppercase.\n",
        "\n",
        "The function `progress()` must be called every ~30 seconds so that the worker knows that the job is not stuck. (For this example, calling it once should suffice)."
      ]
    },
    {
      "cell_type": "code",
      "metadata": {
        "id": "oyhNo5Cive71"
      },
      "source": [
        "%%node\n",
        "\n",
        " async function workFn(letter) {\n",
        "    progress();\n",
        "    return letter.toUpperCase();\n",
        "}"
      ],
      "execution_count": null,
      "outputs": []
    },
    {
      "cell_type": "markdown",
      "metadata": {
        "id": "wXZnkHyGvkFu"
      },
      "source": [
        "## Compute For\n",
        "Now let's set up our compute job.  We will pass it the input array. Unless range/iteration arguments are given, compute.for(input, workFn) will send each input array element to different worker sandboxes to be computed with the work function.  Then we will assign a public name for the job.\n",
        "\n",
        "Here, if you would like to use a `compute group`, enter your `joinKey` and `joinSecret`, otherwise, your job will use the public network. "
      ]
    },
    {
      "cell_type": "code",
      "metadata": {
        "cellView": "form",
        "id": "Y1MxTY_urwCI"
      },
      "source": [
        "#@markdown ### Private Compute Group ( *Optional* )\n",
        "\n",
        "#@markdown Name of private compute group\n",
        "join_key = 'hackathon' #@param {type:\"string\"}\n",
        "#@markdown Password for private compute group\n",
        "join_secret = 'dcp2021' #@param {type: \"string\"}\n",
        "\n"
      ],
      "execution_count": null,
      "outputs": []
    },
    {
      "cell_type": "code",
      "metadata": {
        "colab": {
          "base_uri": "https://localhost:8080/"
        },
        "id": "Hs-xrm7rvtvA",
        "outputId": "93a6efe6-fff0-4514-91a2-34b9816216f2"
      },
      "source": [
        "%%node\n",
        "\n",
        "async function deploy(input) {\n",
        "  let job = compute.for(input, workFn);\n",
        "  job.public.name = 'DCP - toUpperCompute';\n",
        "\n",
        "  if (join_key) job.computeGroups = [{joinKey: join_key, joinSecret: join_secret}];\n",
        "  \n",
        "\n",
        "  job.on('accepted', () => {\n",
        "    console.log(` - Job accepted by scheduler, waiting for results`);\n",
        "    console.log(` - Job has id ${job.id}`);\n",
        "  });\n",
        "\n",
        "  job.on('result', (ev) => {\n",
        "    //console.log(ev.result);   \n",
        "  });\n",
        "\n",
        "  let results = await job.exec();\n",
        "  console.log(\"Compute complete\");\n",
        "  return Array.from(results);\n",
        "}\n",
        "\n",
        "resultSet = deploy(inputSet).then((value) => {\n",
        "      console.log(value.join(''));\n",
        "});"
      ],
      "execution_count": null,
      "outputs": [
        {
          "output_type": "stream",
          "name": "stdout",
          "text": [
            "- Job accepted by scheduler, waiting for results\n",
            "- Job has id 0x8AE90CfF9eaEb6F482CBe930F29e9FfF70DF7e8B\n",
            "Compute complete\n",
            "QMIND SHOULD BE CAPITAL!\n"
          ]
        }
      ]
    },
    {
      "cell_type": "code",
      "metadata": {
        "id": "3EtiIeNeUWXh"
      },
      "source": [
        ""
      ],
      "execution_count": null,
      "outputs": []
    },
    {
      "cell_type": "markdown",
      "metadata": {
        "id": "nPpR7ek9wJrF"
      },
      "source": [
        "## Get Results\n"
      ]
    },
    {
      "cell_type": "markdown",
      "metadata": {
        "id": "1-RthzYl2Kck"
      },
      "source": [
        "Now let's take a look at our output data."
      ]
    },
    {
      "cell_type": "code",
      "metadata": {
        "colab": {
          "base_uri": "https://localhost:8080/"
        },
        "id": "FJHuPe832Mz2",
        "outputId": "ce16d7b3-9fb3-47cd-a992-0982cf3cfa08"
      },
      "source": [
        "%%node\n",
        "console.log(resultSet.join(''));"
      ],
      "execution_count": null,
      "outputs": [
        {
          "output_type": "stream",
          "name": "stdout",
          "text": [
            "Error occured during script running/parsing:  evalmachine.<anonymous>:1\n",
            "console.log(resultSet.join(''));\n",
            "^\n",
            "TypeError: resultSet.join is not a function\n",
            "at evalmachine.<anonymous>:1:23\n",
            "at Script.runInContext (vm.js:133:20)\n",
            "at Object.runInContext (vm.js:311:6)\n",
            "at Evaluator.evaluate (/usr/local/lib/python3.7/dist-packages/bifrost/main.js:167:18)\n",
            "at Transform.inputStream._transform (/usr/local/lib/python3.7/dist-packages/bifrost/main.js:190:25)\n",
            "at Transform._read (_stream_transform.js:190:10)\n",
            "at Transform._write (_stream_transform.js:178:12)\n",
            "at doWrite (_stream_writable.js:415:12)\n",
            "at writeOrBuffer (_stream_writable.js:399:5)\n",
            "at Transform.Writable.write (_stream_writable.js:299:11)\n"
          ]
        }
      ]
    },
    {
      "cell_type": "markdown",
      "metadata": {
        "id": "4gGg2HWokrt0"
      },
      "source": [
        "Oh boy, uppercase! Each one of those letters was converted to uppercase by a different worker sandbox. Now that we're finished with this simple example, imagine what other parrelelizable tasks DCP could be used for. From video rendering to smart manufacturing - the possibilities are endless. For example, check out this Colab file doing [Hyperparameter Tuning on DCP](https://colab.research.google.com/drive/1gGFeDNH0bYTu_1MkXM6K0zLzmCQU7t9o?usp=sharing)\n",
        "\n",
        "Here is the same simple demo in a web development environment: https://jsfiddle.net/DCP_team/f26dzbwr/\n",
        "\n"
      ]
    }
  ]
}